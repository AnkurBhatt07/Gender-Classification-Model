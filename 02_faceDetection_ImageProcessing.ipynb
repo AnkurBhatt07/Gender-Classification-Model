{
 "cells": [
  {
   "cell_type": "markdown",
   "id": "3e5b3a03",
   "metadata": {},
   "source": [
    "Further Data preprocessing steps :\n",
    "\n",
    "\n",
    "                1. Structure all the images to have same size (height and width)\n",
    "                "
   ]
  }
 ],
 "metadata": {
  "language_info": {
   "name": "python"
  }
 },
 "nbformat": 4,
 "nbformat_minor": 5
}
