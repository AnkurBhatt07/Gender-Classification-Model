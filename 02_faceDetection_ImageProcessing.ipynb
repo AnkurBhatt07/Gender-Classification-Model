{
 "cells": [
  {
   "cell_type": "markdown",
   "id": "3e5b3a03",
   "metadata": {},
   "source": [
    "Further Data preprocessing steps :\n",
    "\n",
    "\n",
    "                1. Structure all the images to have same size (height and width) : For getting the appropriate width and height to resize each image  , we need to first do Exploratory Data Analysis\n",
    "                \n",
    "                2. Data Labelling\n"
   ]
  },
  {
   "cell_type": "markdown",
   "id": "6f8244ad",
   "metadata": {},
   "source": [
    "Exploratory Data Analysis\n"
   ]
  },
  {
   "cell_type": "code",
   "execution_count": 1,
   "id": "011b52f5",
   "metadata": {},
   "outputs": [],
   "source": [
    "import numpy as np \n",
    "import pandas as pd \n",
    "import matplotlib.pyplot as plt \n",
    "import seaborn as sns \n",
    "sns.set()\n",
    "\n",
    "from glob import glob \n",
    "\n",
    "import cv2 "
   ]
  },
  {
   "cell_type": "code",
   "execution_count": 2,
   "id": "67418cc2",
   "metadata": {},
   "outputs": [
    {
     "name": "stdout",
     "output_type": "stream",
     "text": [
      "2586\n",
      "2840\n"
     ]
    }
   ],
   "source": [
    "# Getting the path of all cropped males and females \n",
    "\n",
    "fpath = glob(\"./cropped_data/female/*.jpg\")\n",
    "mpath = glob(\"./cropped_data/male/*.jpg\")\n",
    "\n",
    "print(len(fpath))\n",
    "print(len(mpath))"
   ]
  },
  {
   "cell_type": "code",
   "execution_count": 3,
   "id": "28268d7d",
   "metadata": {},
   "outputs": [
    {
     "name": "stdout",
     "output_type": "stream",
     "text": [
      "(5426, 2)\n"
     ]
    },
    {
     "data": {
      "text/html": [
       "<div>\n",
       "<style scoped>\n",
       "    .dataframe tbody tr th:only-of-type {\n",
       "        vertical-align: middle;\n",
       "    }\n",
       "\n",
       "    .dataframe tbody tr th {\n",
       "        vertical-align: top;\n",
       "    }\n",
       "\n",
       "    .dataframe thead th {\n",
       "        text-align: right;\n",
       "    }\n",
       "</style>\n",
       "<table border=\"1\" class=\"dataframe\">\n",
       "  <thead>\n",
       "    <tr style=\"text-align: right;\">\n",
       "      <th></th>\n",
       "      <th>filepath</th>\n",
       "      <th>gender</th>\n",
       "    </tr>\n",
       "  </thead>\n",
       "  <tbody>\n",
       "    <tr>\n",
       "      <th>0</th>\n",
       "      <td>./cropped_data/female\\female_0.jpg</td>\n",
       "      <td>female</td>\n",
       "    </tr>\n",
       "    <tr>\n",
       "      <th>1</th>\n",
       "      <td>./cropped_data/female\\female_1.jpg</td>\n",
       "      <td>female</td>\n",
       "    </tr>\n",
       "    <tr>\n",
       "      <th>2</th>\n",
       "      <td>./cropped_data/female\\female_100.jpg</td>\n",
       "      <td>female</td>\n",
       "    </tr>\n",
       "    <tr>\n",
       "      <th>3</th>\n",
       "      <td>./cropped_data/female\\female_1002.jpg</td>\n",
       "      <td>female</td>\n",
       "    </tr>\n",
       "    <tr>\n",
       "      <th>4</th>\n",
       "      <td>./cropped_data/female\\female_1005.jpg</td>\n",
       "      <td>female</td>\n",
       "    </tr>\n",
       "  </tbody>\n",
       "</table>\n",
       "</div>"
      ],
      "text/plain": [
       "                                filepath  gender\n",
       "0     ./cropped_data/female\\female_0.jpg  female\n",
       "1     ./cropped_data/female\\female_1.jpg  female\n",
       "2   ./cropped_data/female\\female_100.jpg  female\n",
       "3  ./cropped_data/female\\female_1002.jpg  female\n",
       "4  ./cropped_data/female\\female_1005.jpg  female"
      ]
     },
     "execution_count": 3,
     "metadata": {},
     "output_type": "execute_result"
    }
   ],
   "source": [
    "# Creating a df with columns : Filepath and target column : gender \n",
    "\n",
    "df_female = pd.DataFrame(fpath , columns = [\"filepath\"])\n",
    "df_female['gender'] = 'female'\n",
    "\n",
    "df_male = pd.DataFrame(mpath , columns = ['filepath'])\n",
    "df_male['gender'] = 'male'\n",
    "\n",
    "df = pd.concat([df_female , df_male] , axis = 0)\n",
    "\n",
    "print(df.shape)\n",
    "df.head()"
   ]
  },
  {
   "cell_type": "code",
   "execution_count": 4,
   "id": "eb5f6dc7",
   "metadata": {},
   "outputs": [
    {
     "data": {
      "text/html": [
       "<div>\n",
       "<style scoped>\n",
       "    .dataframe tbody tr th:only-of-type {\n",
       "        vertical-align: middle;\n",
       "    }\n",
       "\n",
       "    .dataframe tbody tr th {\n",
       "        vertical-align: top;\n",
       "    }\n",
       "\n",
       "    .dataframe thead th {\n",
       "        text-align: right;\n",
       "    }\n",
       "</style>\n",
       "<table border=\"1\" class=\"dataframe\">\n",
       "  <thead>\n",
       "    <tr style=\"text-align: right;\">\n",
       "      <th></th>\n",
       "      <th>filepath</th>\n",
       "      <th>gender</th>\n",
       "    </tr>\n",
       "  </thead>\n",
       "  <tbody>\n",
       "    <tr>\n",
       "      <th>2835</th>\n",
       "      <td>./cropped_data/male\\male_995.jpg</td>\n",
       "      <td>male</td>\n",
       "    </tr>\n",
       "    <tr>\n",
       "      <th>2836</th>\n",
       "      <td>./cropped_data/male\\male_996.jpg</td>\n",
       "      <td>male</td>\n",
       "    </tr>\n",
       "    <tr>\n",
       "      <th>2837</th>\n",
       "      <td>./cropped_data/male\\male_997.jpg</td>\n",
       "      <td>male</td>\n",
       "    </tr>\n",
       "    <tr>\n",
       "      <th>2838</th>\n",
       "      <td>./cropped_data/male\\male_998.jpg</td>\n",
       "      <td>male</td>\n",
       "    </tr>\n",
       "    <tr>\n",
       "      <th>2839</th>\n",
       "      <td>./cropped_data/male\\male_999.jpg</td>\n",
       "      <td>male</td>\n",
       "    </tr>\n",
       "  </tbody>\n",
       "</table>\n",
       "</div>"
      ],
      "text/plain": [
       "                              filepath gender\n",
       "2835  ./cropped_data/male\\male_995.jpg   male\n",
       "2836  ./cropped_data/male\\male_996.jpg   male\n",
       "2837  ./cropped_data/male\\male_997.jpg   male\n",
       "2838  ./cropped_data/male\\male_998.jpg   male\n",
       "2839  ./cropped_data/male\\male_999.jpg   male"
      ]
     },
     "execution_count": 4,
     "metadata": {},
     "output_type": "execute_result"
    }
   ],
   "source": [
    "df.tail()"
   ]
  },
  {
   "cell_type": "code",
   "execution_count": 5,
   "id": "24ea5685",
   "metadata": {},
   "outputs": [],
   "source": [
    "def get_dimensions(file_path):\n",
    "    img = cv2.imread(file_path)\n",
    "    height = img.shape[0]\n",
    "    width = img.shape[1]\n",
    "    return (height , width)\n",
    "\n",
    "\n",
    "df[['height' , 'width']] = df['filepath'].apply(get_dimensions).apply(pd.Series)"
   ]
  },
  {
   "cell_type": "code",
   "execution_count": 6,
   "id": "661d0916",
   "metadata": {},
   "outputs": [
    {
     "data": {
      "text/html": [
       "<div>\n",
       "<style scoped>\n",
       "    .dataframe tbody tr th:only-of-type {\n",
       "        vertical-align: middle;\n",
       "    }\n",
       "\n",
       "    .dataframe tbody tr th {\n",
       "        vertical-align: top;\n",
       "    }\n",
       "\n",
       "    .dataframe thead th {\n",
       "        text-align: right;\n",
       "    }\n",
       "</style>\n",
       "<table border=\"1\" class=\"dataframe\">\n",
       "  <thead>\n",
       "    <tr style=\"text-align: right;\">\n",
       "      <th></th>\n",
       "      <th>filepath</th>\n",
       "      <th>gender</th>\n",
       "      <th>height</th>\n",
       "      <th>width</th>\n",
       "    </tr>\n",
       "  </thead>\n",
       "  <tbody>\n",
       "    <tr>\n",
       "      <th>0</th>\n",
       "      <td>./cropped_data/female\\female_0.jpg</td>\n",
       "      <td>female</td>\n",
       "      <td>273</td>\n",
       "      <td>273</td>\n",
       "    </tr>\n",
       "    <tr>\n",
       "      <th>1</th>\n",
       "      <td>./cropped_data/female\\female_1.jpg</td>\n",
       "      <td>female</td>\n",
       "      <td>182</td>\n",
       "      <td>182</td>\n",
       "    </tr>\n",
       "    <tr>\n",
       "      <th>2</th>\n",
       "      <td>./cropped_data/female\\female_100.jpg</td>\n",
       "      <td>female</td>\n",
       "      <td>122</td>\n",
       "      <td>122</td>\n",
       "    </tr>\n",
       "    <tr>\n",
       "      <th>3</th>\n",
       "      <td>./cropped_data/female\\female_1002.jpg</td>\n",
       "      <td>female</td>\n",
       "      <td>122</td>\n",
       "      <td>122</td>\n",
       "    </tr>\n",
       "    <tr>\n",
       "      <th>4</th>\n",
       "      <td>./cropped_data/female\\female_1005.jpg</td>\n",
       "      <td>female</td>\n",
       "      <td>182</td>\n",
       "      <td>182</td>\n",
       "    </tr>\n",
       "  </tbody>\n",
       "</table>\n",
       "</div>"
      ],
      "text/plain": [
       "                                filepath  gender  height  width\n",
       "0     ./cropped_data/female\\female_0.jpg  female     273    273\n",
       "1     ./cropped_data/female\\female_1.jpg  female     182    182\n",
       "2   ./cropped_data/female\\female_100.jpg  female     122    122\n",
       "3  ./cropped_data/female\\female_1002.jpg  female     122    122\n",
       "4  ./cropped_data/female\\female_1005.jpg  female     182    182"
      ]
     },
     "execution_count": 6,
     "metadata": {},
     "output_type": "execute_result"
    }
   ],
   "source": [
    "df.head()"
   ]
  },
  {
   "cell_type": "code",
   "execution_count": 7,
   "id": "a2a4ca32",
   "metadata": {},
   "outputs": [],
   "source": [
    "# Height and the width of each of the cropped image is same \n",
    "\n",
    "df.drop(['height'] , axis = 1 , inplace = True)\n"
   ]
  },
  {
   "cell_type": "code",
   "execution_count": 8,
   "id": "282698e8",
   "metadata": {},
   "outputs": [],
   "source": [
    "df.rename(columns = {\"width\" : \"dimension\"} , inplace = True)"
   ]
  },
  {
   "cell_type": "code",
   "execution_count": 9,
   "id": "9533aec2",
   "metadata": {},
   "outputs": [
    {
     "data": {
      "text/html": [
       "<div>\n",
       "<style scoped>\n",
       "    .dataframe tbody tr th:only-of-type {\n",
       "        vertical-align: middle;\n",
       "    }\n",
       "\n",
       "    .dataframe tbody tr th {\n",
       "        vertical-align: top;\n",
       "    }\n",
       "\n",
       "    .dataframe thead th {\n",
       "        text-align: right;\n",
       "    }\n",
       "</style>\n",
       "<table border=\"1\" class=\"dataframe\">\n",
       "  <thead>\n",
       "    <tr style=\"text-align: right;\">\n",
       "      <th></th>\n",
       "      <th>filepath</th>\n",
       "      <th>gender</th>\n",
       "      <th>dimension</th>\n",
       "    </tr>\n",
       "  </thead>\n",
       "  <tbody>\n",
       "    <tr>\n",
       "      <th>0</th>\n",
       "      <td>./cropped_data/female\\female_0.jpg</td>\n",
       "      <td>female</td>\n",
       "      <td>273</td>\n",
       "    </tr>\n",
       "    <tr>\n",
       "      <th>1</th>\n",
       "      <td>./cropped_data/female\\female_1.jpg</td>\n",
       "      <td>female</td>\n",
       "      <td>182</td>\n",
       "    </tr>\n",
       "    <tr>\n",
       "      <th>2</th>\n",
       "      <td>./cropped_data/female\\female_100.jpg</td>\n",
       "      <td>female</td>\n",
       "      <td>122</td>\n",
       "    </tr>\n",
       "    <tr>\n",
       "      <th>3</th>\n",
       "      <td>./cropped_data/female\\female_1002.jpg</td>\n",
       "      <td>female</td>\n",
       "      <td>122</td>\n",
       "    </tr>\n",
       "    <tr>\n",
       "      <th>4</th>\n",
       "      <td>./cropped_data/female\\female_1005.jpg</td>\n",
       "      <td>female</td>\n",
       "      <td>182</td>\n",
       "    </tr>\n",
       "  </tbody>\n",
       "</table>\n",
       "</div>"
      ],
      "text/plain": [
       "                                filepath  gender  dimension\n",
       "0     ./cropped_data/female\\female_0.jpg  female        273\n",
       "1     ./cropped_data/female\\female_1.jpg  female        182\n",
       "2   ./cropped_data/female\\female_100.jpg  female        122\n",
       "3  ./cropped_data/female\\female_1002.jpg  female        122\n",
       "4  ./cropped_data/female\\female_1005.jpg  female        182"
      ]
     },
     "execution_count": 9,
     "metadata": {},
     "output_type": "execute_result"
    }
   ],
   "source": [
    "df.head()"
   ]
  },
  {
   "cell_type": "code",
   "execution_count": 10,
   "metadata": {},
   "outputs": [
    {
     "data": {
      "text/plain": [
       "(5426, 3)"
      ]
     },
     "execution_count": 10,
     "metadata": {},
     "output_type": "execute_result"
    }
   ],
   "source": [
    "df.shape"
   ]
  },
  {
   "cell_type": "code",
   "execution_count": 11,
   "metadata": {},
   "outputs": [
    {
     "data": {
      "image/png": "[encoded data removed]",
      "text/plain": [
       "<Figure size 640x480 with 1 Axes>"
      ]
     },
     "metadata": {},
     "output_type": "display_data"
    }
   ],
   "source": [
    "# distribution of gender \n",
    "\n",
    "sns.barplot(df['gender'])\n",
    "plt.show()"
   ]
  },
  {
   "cell_type": "code",
   "execution_count": 12,
   "id": "7c1c909e",
   "metadata": {},
   "outputs": [
    {
     "data": {
      "text/plain": [
       "gender\n",
       "male      2840\n",
       "female    2586\n",
       "Name: count, dtype: int64"
      ]
     },
     "execution_count": 12,
     "metadata": {},
     "output_type": "execute_result"
    }
   ],
   "source": [
    "# plt.pie(df['gender'] , autopct=\"%0.0f%%\")\n",
    "# plt.show()\n",
    "\n",
    "gender_dist = df['gender'].value_counts()\n",
    "gender_dist"
   ]
  },
  {
   "cell_type": "code",
   "execution_count": 13,
   "id": "ff3bc51b",
   "metadata": {},
   "outputs": [
    {
     "data": {
      "image/png": "[encoded data removed]",
      "text/plain": [
       "<Figure size 640x480 with 1 Axes>"
      ]
     },
     "metadata": {},
     "output_type": "display_data"
    }
   ],
   "source": [
    "plt.pie(gender_dist ,autopct = \"%0.0f%%\")\n",
    "plt.show()"
   ]
  },
  {
   "cell_type": "markdown",
   "id": "96826f2c",
   "metadata": {},
   "source": [
    "Nearly same distribution of male and female \n"
   ]
  },
  {
   "cell_type": "code",
   "execution_count": 14,
   "id": "4991d6ce",
   "metadata": {},
   "outputs": [
    {
     "data": {
      "image/png": "[encoded data removed]",
      "text/plain": [
       "<Figure size 1000x1200 with 2 Axes>"
      ]
     },
     "metadata": {},
     "output_type": "display_data"
    }
   ],
   "source": [
    "# to select the appropriate dimension for resizing each image : EDA \n",
    "\n",
    "# plt.figure(figsize = (10,12))\n",
    "fig , ax = plt.subplots(nrows = 2 , ncols=1 ,figsize= (10,12))\n",
    "sns.histplot(df['dimension'] , ax=ax[0])\n",
    "# plt.show()\n",
    "\n",
    "# plt.subplots(2,1,2)\n",
    "sns.boxplot(df['dimension'] , ax = ax[1])\n",
    "\n",
    "plt.show()\n",
    "\n"
   ]
  },
  {
   "cell_type": "code",
   "execution_count": 15,
   "id": "a83b5c2e",
   "metadata": {},
   "outputs": [
    {
     "data": {
      "image/png": "[encoded data removed]",
      "text/plain": [
       "<Figure size 512.222x500 with 1 Axes>"
      ]
     },
     "metadata": {},
     "output_type": "display_data"
    }
   ],
   "source": [
    "sns.catplot(data = df , x = 'gender' , y  = 'dimension' , kind = 'box')\n",
    "plt.show()"
   ]
  },
  {
   "cell_type": "markdown",
   "id": "51c18708",
   "metadata": {},
   "source": [
    "Most of the images have dimension more than 60 pixels.\n",
    "\n",
    "Female images are having higher definition than male images . \n",
    "Distribution of male and female images is nearly equal \n",
    "\n",
    "\n",
    "**Consider all images with greater than or equal to 60 value as dimension** \n",
    "\n",
    "**Resize all the images to 100 by 100**\n",
    "\n",
    "**It is better to reduce the size of the image that to expand the size of the image to make it to a particular dimension. That holds betterquality for model creation .**\n",
    "\n"
   ]
  },
  {
   "cell_type": "markdown",
   "id": "2236d75d",
   "metadata": {},
   "source": [
    "1. drop the images with dimensions less that 60 \n",
    "\n",
    "2. Resize the images all to 100*100 : if dimension greater that 100 : cv2.INTER_AREA \n",
    "                                    : if dimension less than 100 : cv2.INTER_CUBIC "
   ]
  },
  {
   "cell_type": "code",
   "execution_count": 16,
   "id": "f1664fee",
   "metadata": {},
   "outputs": [
    {
     "data": {
      "text/plain": [
       "(5426, 3)"
      ]
     },
     "execution_count": 16,
     "metadata": {},
     "output_type": "execute_result"
    }
   ],
   "source": [
    "df.shape"
   ]
  },
  {
   "cell_type": "code",
   "execution_count": 17,
   "id": "101f4d62",
   "metadata": {},
   "outputs": [
    {
     "data": {
      "text/html": [
       "<div>\n",
       "<style scoped>\n",
       "    .dataframe tbody tr th:only-of-type {\n",
       "        vertical-align: middle;\n",
       "    }\n",
       "\n",
       "    .dataframe tbody tr th {\n",
       "        vertical-align: top;\n",
       "    }\n",
       "\n",
       "    .dataframe thead th {\n",
       "        text-align: right;\n",
       "    }\n",
       "</style>\n",
       "<table border=\"1\" class=\"dataframe\">\n",
       "  <thead>\n",
       "    <tr style=\"text-align: right;\">\n",
       "      <th></th>\n",
       "      <th>filepath</th>\n",
       "      <th>gender</th>\n",
       "      <th>dimension</th>\n",
       "    </tr>\n",
       "  </thead>\n",
       "  <tbody>\n",
       "    <tr>\n",
       "      <th>0</th>\n",
       "      <td>./cropped_data/female\\female_0.jpg</td>\n",
       "      <td>female</td>\n",
       "      <td>273</td>\n",
       "    </tr>\n",
       "    <tr>\n",
       "      <th>1</th>\n",
       "      <td>./cropped_data/female\\female_1.jpg</td>\n",
       "      <td>female</td>\n",
       "      <td>182</td>\n",
       "    </tr>\n",
       "    <tr>\n",
       "      <th>2</th>\n",
       "      <td>./cropped_data/female\\female_100.jpg</td>\n",
       "      <td>female</td>\n",
       "      <td>122</td>\n",
       "    </tr>\n",
       "    <tr>\n",
       "      <th>3</th>\n",
       "      <td>./cropped_data/female\\female_1002.jpg</td>\n",
       "      <td>female</td>\n",
       "      <td>122</td>\n",
       "    </tr>\n",
       "    <tr>\n",
       "      <th>4</th>\n",
       "      <td>./cropped_data/female\\female_1005.jpg</td>\n",
       "      <td>female</td>\n",
       "      <td>182</td>\n",
       "    </tr>\n",
       "  </tbody>\n",
       "</table>\n",
       "</div>"
      ],
      "text/plain": [
       "                                filepath  gender  dimension\n",
       "0     ./cropped_data/female\\female_0.jpg  female        273\n",
       "1     ./cropped_data/female\\female_1.jpg  female        182\n",
       "2   ./cropped_data/female\\female_100.jpg  female        122\n",
       "3  ./cropped_data/female\\female_1002.jpg  female        122\n",
       "4  ./cropped_data/female\\female_1005.jpg  female        182"
      ]
     },
     "execution_count": 17,
     "metadata": {},
     "output_type": "execute_result"
    }
   ],
   "source": [
    "df.head()"
   ]
  },
  {
   "cell_type": "code",
   "execution_count": 18,
   "id": "0eaafef5",
   "metadata": {},
   "outputs": [],
   "source": [
    "# df_filter = df.query(\"dimension > 60\")\n",
    "# df_filter.shape"
   ]
  },
  {
   "cell_type": "code",
   "execution_count": 19,
   "id": "c0cda76f",
   "metadata": {},
   "outputs": [
    {
     "data": {
      "text/plain": [
       "(4894, 3)"
      ]
     },
     "execution_count": 19,
     "metadata": {},
     "output_type": "execute_result"
    }
   ],
   "source": [
    "df_filter = df.loc[df['dimension'] > 60]\n",
    "df_filter.shape"
   ]
  },
  {
   "cell_type": "code",
   "execution_count": 20,
   "id": "a266ba6c",
   "metadata": {},
   "outputs": [
    {
     "data": {
      "text/html": [
       "<div>\n",
       "<style scoped>\n",
       "    .dataframe tbody tr th:only-of-type {\n",
       "        vertical-align: middle;\n",
       "    }\n",
       "\n",
       "    .dataframe tbody tr th {\n",
       "        vertical-align: top;\n",
       "    }\n",
       "\n",
       "    .dataframe thead th {\n",
       "        text-align: right;\n",
       "    }\n",
       "</style>\n",
       "<table border=\"1\" class=\"dataframe\">\n",
       "  <thead>\n",
       "    <tr style=\"text-align: right;\">\n",
       "      <th></th>\n",
       "      <th>filepath</th>\n",
       "      <th>gender</th>\n",
       "      <th>dimension</th>\n",
       "    </tr>\n",
       "  </thead>\n",
       "  <tbody>\n",
       "    <tr>\n",
       "      <th>0</th>\n",
       "      <td>./cropped_data/female\\female_0.jpg</td>\n",
       "      <td>female</td>\n",
       "      <td>273</td>\n",
       "    </tr>\n",
       "    <tr>\n",
       "      <th>1</th>\n",
       "      <td>./cropped_data/female\\female_1.jpg</td>\n",
       "      <td>female</td>\n",
       "      <td>182</td>\n",
       "    </tr>\n",
       "    <tr>\n",
       "      <th>2</th>\n",
       "      <td>./cropped_data/female\\female_100.jpg</td>\n",
       "      <td>female</td>\n",
       "      <td>122</td>\n",
       "    </tr>\n",
       "    <tr>\n",
       "      <th>3</th>\n",
       "      <td>./cropped_data/female\\female_1002.jpg</td>\n",
       "      <td>female</td>\n",
       "      <td>122</td>\n",
       "    </tr>\n",
       "    <tr>\n",
       "      <th>4</th>\n",
       "      <td>./cropped_data/female\\female_1005.jpg</td>\n",
       "      <td>female</td>\n",
       "      <td>182</td>\n",
       "    </tr>\n",
       "  </tbody>\n",
       "</table>\n",
       "</div>"
      ],
      "text/plain": [
       "                                filepath  gender  dimension\n",
       "0     ./cropped_data/female\\female_0.jpg  female        273\n",
       "1     ./cropped_data/female\\female_1.jpg  female        182\n",
       "2   ./cropped_data/female\\female_100.jpg  female        122\n",
       "3  ./cropped_data/female\\female_1002.jpg  female        122\n",
       "4  ./cropped_data/female\\female_1005.jpg  female        182"
      ]
     },
     "execution_count": 20,
     "metadata": {},
     "output_type": "execute_result"
    }
   ],
   "source": [
    "df_filter.head()"
   ]
  },
  {
   "cell_type": "code",
   "execution_count": 21,
   "id": "a0ae105e",
   "metadata": {},
   "outputs": [],
   "source": [
    "df_filter = df_filter.reset_index(drop = True)"
   ]
  },
  {
   "cell_type": "markdown",
   "id": "d5ac2b4a",
   "metadata": {},
   "source": [
    "My method to resize and flatten each image :"
   ]
  },
  {
   "cell_type": "code",
   "execution_count": 22,
   "id": "18d26f59",
   "metadata": {},
   "outputs": [],
   "source": [
    "# try_data = pd.DataFrame(columns = [\"data\"])\n",
    "# for i in range(10):\n",
    "#     img = cv2.imread(df_filter['filepath'][i])\n",
    "#     if df_filter['dimension'][i] > 100 : \n",
    "#         # shrink the image \n",
    "#         resize_img = cv2.resize(src = img , dsize = (100,100) , interpolation = cv2.INTER_AREA )\n",
    "#     else:\n",
    "#         resize_img = cv2.resize(src = img , dsize = (100 , 100) , interpolation = cv2.INTER_CUBIC)\n",
    "\n",
    "#     flatten_img  = resize_img.flatten()\n",
    "\n",
    "#     try_data.loc[i ,'data'] = flatten_img\n",
    "\n"
   ]
  },
  {
   "cell_type": "code",
   "execution_count": 23,
   "id": "db8b8f41",
   "metadata": {},
   "outputs": [],
   "source": [
    "# df_filter['filepath'][0]"
   ]
  },
  {
   "cell_type": "code",
   "execution_count": 24,
   "id": "2a33c534",
   "metadata": {},
   "outputs": [],
   "source": [
    "# try_data.head()"
   ]
  },
  {
   "cell_type": "code",
   "execution_count": 25,
   "id": "72b8ec55",
   "metadata": {},
   "outputs": [],
   "source": [
    "# try_data.loc[0,'data']\n",
    "\n",
    "\n",
    "# shape = 30000 .. why ?"
   ]
  },
  {
   "cell_type": "markdown",
   "id": "a1949d7c",
   "metadata": {},
   "source": [
    "The shape 30000 , for each image is coming because each image is colored with 3 channels : BGR\n",
    "\n",
    "It is better to convert it to greyscale then do this processing.."
   ]
  },
  {
   "cell_type": "code",
   "execution_count": null,
   "id": "7e291c23",
   "metadata": {},
   "outputs": [],
   "source": []
  },
  {
   "cell_type": "code",
   "execution_count": null,
   "id": "07ed44f9",
   "metadata": {},
   "outputs": [],
   "source": []
  },
  {
   "cell_type": "code",
   "execution_count": null,
   "id": "adcb4431",
   "metadata": {},
   "outputs": [],
   "source": []
  },
  {
   "cell_type": "markdown",
   "id": "11554c53",
   "metadata": {},
   "source": [
    "Other Method of resizing and flattening the images :\n"
   ]
  },
  {
   "cell_type": "code",
   "execution_count": 26,
   "id": "a6cceb25",
   "metadata": {},
   "outputs": [],
   "source": [
    "# define a function that takes an image and resizes it and then flattens it \n",
    "\n",
    "def structuring(img_path):\n",
    "    try:\n",
    "        # get the image from img_path\n",
    "        image = cv2.imread(img_path) \n",
    "        # convert the image to greyscale for further processing\n",
    "        gray = cv2.cvtColor(image , cv2.COLOR_BGR2GRAY)\n",
    "        # resize the image to shape (100,100) using cv2.INTER_AREA and cv2.INTER_CUBIC\n",
    "        if gray.shape[0] > 100: \n",
    "            resized_img = cv2.resize(gray , (100,100) ,interpolation  = cv2.INTER_AREA)\n",
    "        elif gray.shape[0] < 100:\n",
    "            resized_img = cv2.resize(gray , (100,100) ,interpolation  = cv2.INTER_CUBIC)\n",
    "        else:\n",
    "            resized_img = gray\n",
    "        # flatten the image \n",
    "        # return the flatten image \n",
    "        return resized_img.flatten()\n",
    "    except:\n",
    "        return None \n",
    "    \n",
    "\n",
    "# Getting the flatten data for all the images \n",
    "\n",
    "df_filter['data'] = df_filter['filepath'].apply(structuring)\n",
    "\n",
    "\n"
   ]
  },
  {
   "cell_type": "code",
   "execution_count": 27,
   "id": "d5a46039",
   "metadata": {},
   "outputs": [
    {
     "data": {
      "text/html": [
       "<div>\n",
       "<style scoped>\n",
       "    .dataframe tbody tr th:only-of-type {\n",
       "        vertical-align: middle;\n",
       "    }\n",
       "\n",
       "    .dataframe tbody tr th {\n",
       "        vertical-align: top;\n",
       "    }\n",
       "\n",
       "    .dataframe thead th {\n",
       "        text-align: right;\n",
       "    }\n",
       "</style>\n",
       "<table border=\"1\" class=\"dataframe\">\n",
       "  <thead>\n",
       "    <tr style=\"text-align: right;\">\n",
       "      <th></th>\n",
       "      <th>filepath</th>\n",
       "      <th>gender</th>\n",
       "      <th>dimension</th>\n",
       "      <th>data</th>\n",
       "    </tr>\n",
       "  </thead>\n",
       "  <tbody>\n",
       "    <tr>\n",
       "      <th>0</th>\n",
       "      <td>./cropped_data/female\\female_0.jpg</td>\n",
       "      <td>female</td>\n",
       "      <td>273</td>\n",
       "      <td>[199, 189, 187, 181, 183, 184, 178, 176, 187, ...</td>\n",
       "    </tr>\n",
       "    <tr>\n",
       "      <th>1</th>\n",
       "      <td>./cropped_data/female\\female_1.jpg</td>\n",
       "      <td>female</td>\n",
       "      <td>182</td>\n",
       "      <td>[31, 25, 33, 28, 29, 29, 31, 33, 35, 35, 50, 7...</td>\n",
       "    </tr>\n",
       "    <tr>\n",
       "      <th>2</th>\n",
       "      <td>./cropped_data/female\\female_100.jpg</td>\n",
       "      <td>female</td>\n",
       "      <td>122</td>\n",
       "      <td>[50, 49, 35, 34, 42, 40, 36, 40, 68, 60, 46, 4...</td>\n",
       "    </tr>\n",
       "    <tr>\n",
       "      <th>3</th>\n",
       "      <td>./cropped_data/female\\female_1002.jpg</td>\n",
       "      <td>female</td>\n",
       "      <td>122</td>\n",
       "      <td>[136, 127, 114, 96, 96, 94, 94, 116, 149, 163,...</td>\n",
       "    </tr>\n",
       "    <tr>\n",
       "      <th>4</th>\n",
       "      <td>./cropped_data/female\\female_1005.jpg</td>\n",
       "      <td>female</td>\n",
       "      <td>182</td>\n",
       "      <td>[234, 236, 234, 232, 229, 186, 139, 105, 59, 4...</td>\n",
       "    </tr>\n",
       "    <tr>\n",
       "      <th>...</th>\n",
       "      <td>...</td>\n",
       "      <td>...</td>\n",
       "      <td>...</td>\n",
       "      <td>...</td>\n",
       "    </tr>\n",
       "    <tr>\n",
       "      <th>4889</th>\n",
       "      <td>./cropped_data/male\\male_994.jpg</td>\n",
       "      <td>male</td>\n",
       "      <td>122</td>\n",
       "      <td>[17, 17, 16, 17, 17, 17, 18, 18, 18, 15, 13, 1...</td>\n",
       "    </tr>\n",
       "    <tr>\n",
       "      <th>4890</th>\n",
       "      <td>./cropped_data/male\\male_995.jpg</td>\n",
       "      <td>male</td>\n",
       "      <td>273</td>\n",
       "      <td>[13, 93, 32, 47, 58, 81, 136, 108, 117, 117, 1...</td>\n",
       "    </tr>\n",
       "    <tr>\n",
       "      <th>4891</th>\n",
       "      <td>./cropped_data/male\\male_997.jpg</td>\n",
       "      <td>male</td>\n",
       "      <td>122</td>\n",
       "      <td>[179, 180, 180, 181, 182, 183, 182, 180, 181, ...</td>\n",
       "    </tr>\n",
       "    <tr>\n",
       "      <th>4892</th>\n",
       "      <td>./cropped_data/male\\male_998.jpg</td>\n",
       "      <td>male</td>\n",
       "      <td>81</td>\n",
       "      <td>[38, 37, 37, 38, 39, 40, 39, 38, 38, 39, 37, 3...</td>\n",
       "    </tr>\n",
       "    <tr>\n",
       "      <th>4893</th>\n",
       "      <td>./cropped_data/male\\male_999.jpg</td>\n",
       "      <td>male</td>\n",
       "      <td>182</td>\n",
       "      <td>[182, 183, 184, 184, 183, 184, 185, 185, 186, ...</td>\n",
       "    </tr>\n",
       "  </tbody>\n",
       "</table>\n",
       "<p>4894 rows × 4 columns</p>\n",
       "</div>"
      ],
      "text/plain": [
       "                                   filepath  gender  dimension  \\\n",
       "0        ./cropped_data/female\\female_0.jpg  female        273   \n",
       "1        ./cropped_data/female\\female_1.jpg  female        182   \n",
       "2      ./cropped_data/female\\female_100.jpg  female        122   \n",
       "3     ./cropped_data/female\\female_1002.jpg  female        122   \n",
       "4     ./cropped_data/female\\female_1005.jpg  female        182   \n",
       "...                                     ...     ...        ...   \n",
       "4889       ./cropped_data/male\\male_994.jpg    male        122   \n",
       "4890       ./cropped_data/male\\male_995.jpg    male        273   \n",
       "4891       ./cropped_data/male\\male_997.jpg    male        122   \n",
       "4892       ./cropped_data/male\\male_998.jpg    male         81   \n",
       "4893       ./cropped_data/male\\male_999.jpg    male        182   \n",
       "\n",
       "                                                   data  \n",
       "0     [199, 189, 187, 181, 183, 184, 178, 176, 187, ...  \n",
       "1     [31, 25, 33, 28, 29, 29, 31, 33, 35, 35, 50, 7...  \n",
       "2     [50, 49, 35, 34, 42, 40, 36, 40, 68, 60, 46, 4...  \n",
       "3     [136, 127, 114, 96, 96, 94, 94, 116, 149, 163,...  \n",
       "4     [234, 236, 234, 232, 229, 186, 139, 105, 59, 4...  \n",
       "...                                                 ...  \n",
       "4889  [17, 17, 16, 17, 17, 17, 18, 18, 18, 15, 13, 1...  \n",
       "4890  [13, 93, 32, 47, 58, 81, 136, 108, 117, 117, 1...  \n",
       "4891  [179, 180, 180, 181, 182, 183, 182, 180, 181, ...  \n",
       "4892  [38, 37, 37, 38, 39, 40, 39, 38, 38, 39, 37, 3...  \n",
       "4893  [182, 183, 184, 184, 183, 184, 185, 185, 186, ...  \n",
       "\n",
       "[4894 rows x 4 columns]"
      ]
     },
     "execution_count": 27,
     "metadata": {},
     "output_type": "execute_result"
    }
   ],
   "source": [
    "df_filter"
   ]
  },
  {
   "cell_type": "markdown",
   "id": "671071c0",
   "metadata": {},
   "source": [
    "Next steps :\n",
    "1. Get the each image pixel as separate column \n",
    "2. Normalize the image pixels : divide by 255\n",
    "3. rename the columns for clarity like pixel_1 , pixel_2 .. so on \n",
    "4. Add a column gender that will serve as a target column \n",
    "\n",
    "5. For clean data : check for missing values : data.isna().sum().sum()\n",
    "6. If missing values are present : remove them : data.dropna(inplace = True)\n",
    "7. save the cleaned data for future use : using pickle \n"
   ]
  },
  {
   "cell_type": "code",
   "execution_count": 28,
   "id": "9d800cb3",
   "metadata": {},
   "outputs": [],
   "source": [
    "data = df_filter['data'].apply(pd.Series)"
   ]
  },
  {
   "cell_type": "code",
   "execution_count": 29,
   "id": "ae7b4dea",
   "metadata": {},
   "outputs": [
    {
     "data": {
      "text/plain": [
       "RangeIndex(start=0, stop=10000, step=1)"
      ]
     },
     "execution_count": 29,
     "metadata": {},
     "output_type": "execute_result"
    }
   ],
   "source": [
    "data.columns"
   ]
  },
  {
   "cell_type": "code",
   "execution_count": 30,
   "id": "32cc06de",
   "metadata": {},
   "outputs": [],
   "source": [
    "data.columns = [f\"pixel_{i}\" for i in data.columns]"
   ]
  },
  {
   "cell_type": "code",
   "execution_count": 31,
   "id": "4d56d895",
   "metadata": {},
   "outputs": [
    {
     "data": {
      "text/plain": [
       "Index(['pixel_0', 'pixel_1', 'pixel_2', 'pixel_3', 'pixel_4', 'pixel_5',\n",
       "       'pixel_6', 'pixel_7', 'pixel_8', 'pixel_9',\n",
       "       ...\n",
       "       'pixel_9990', 'pixel_9991', 'pixel_9992', 'pixel_9993', 'pixel_9994',\n",
       "       'pixel_9995', 'pixel_9996', 'pixel_9997', 'pixel_9998', 'pixel_9999'],\n",
       "      dtype='object', length=10000)"
      ]
     },
     "execution_count": 31,
     "metadata": {},
     "output_type": "execute_result"
    }
   ],
   "source": [
    "data.columns"
   ]
  },
  {
   "cell_type": "code",
   "execution_count": 32,
   "id": "34e0d65f",
   "metadata": {},
   "outputs": [
    {
     "data": {
      "text/html": [
       "<div>\n",
       "<style scoped>\n",
       "    .dataframe tbody tr th:only-of-type {\n",
       "        vertical-align: middle;\n",
       "    }\n",
       "\n",
       "    .dataframe tbody tr th {\n",
       "        vertical-align: top;\n",
       "    }\n",
       "\n",
       "    .dataframe thead th {\n",
       "        text-align: right;\n",
       "    }\n",
       "</style>\n",
       "<table border=\"1\" class=\"dataframe\">\n",
       "  <thead>\n",
       "    <tr style=\"text-align: right;\">\n",
       "      <th></th>\n",
       "      <th>pixel_0</th>\n",
       "      <th>pixel_1</th>\n",
       "      <th>pixel_2</th>\n",
       "      <th>pixel_3</th>\n",
       "      <th>pixel_4</th>\n",
       "      <th>pixel_5</th>\n",
       "      <th>pixel_6</th>\n",
       "      <th>pixel_7</th>\n",
       "      <th>pixel_8</th>\n",
       "      <th>pixel_9</th>\n",
       "      <th>...</th>\n",
       "      <th>pixel_9990</th>\n",
       "      <th>pixel_9991</th>\n",
       "      <th>pixel_9992</th>\n",
       "      <th>pixel_9993</th>\n",
       "      <th>pixel_9994</th>\n",
       "      <th>pixel_9995</th>\n",
       "      <th>pixel_9996</th>\n",
       "      <th>pixel_9997</th>\n",
       "      <th>pixel_9998</th>\n",
       "      <th>pixel_9999</th>\n",
       "    </tr>\n",
       "  </thead>\n",
       "  <tbody>\n",
       "    <tr>\n",
       "      <th>0</th>\n",
       "      <td>199</td>\n",
       "      <td>189</td>\n",
       "      <td>187</td>\n",
       "      <td>181</td>\n",
       "      <td>183</td>\n",
       "      <td>184</td>\n",
       "      <td>178</td>\n",
       "      <td>176</td>\n",
       "      <td>187</td>\n",
       "      <td>181</td>\n",
       "      <td>...</td>\n",
       "      <td>109</td>\n",
       "      <td>108</td>\n",
       "      <td>109</td>\n",
       "      <td>111</td>\n",
       "      <td>114</td>\n",
       "      <td>116</td>\n",
       "      <td>121</td>\n",
       "      <td>118</td>\n",
       "      <td>117</td>\n",
       "      <td>119</td>\n",
       "    </tr>\n",
       "    <tr>\n",
       "      <th>1</th>\n",
       "      <td>31</td>\n",
       "      <td>25</td>\n",
       "      <td>33</td>\n",
       "      <td>28</td>\n",
       "      <td>29</td>\n",
       "      <td>29</td>\n",
       "      <td>31</td>\n",
       "      <td>33</td>\n",
       "      <td>35</td>\n",
       "      <td>35</td>\n",
       "      <td>...</td>\n",
       "      <td>45</td>\n",
       "      <td>29</td>\n",
       "      <td>23</td>\n",
       "      <td>30</td>\n",
       "      <td>22</td>\n",
       "      <td>34</td>\n",
       "      <td>25</td>\n",
       "      <td>35</td>\n",
       "      <td>55</td>\n",
       "      <td>18</td>\n",
       "    </tr>\n",
       "    <tr>\n",
       "      <th>2</th>\n",
       "      <td>50</td>\n",
       "      <td>49</td>\n",
       "      <td>35</td>\n",
       "      <td>34</td>\n",
       "      <td>42</td>\n",
       "      <td>40</td>\n",
       "      <td>36</td>\n",
       "      <td>40</td>\n",
       "      <td>68</td>\n",
       "      <td>60</td>\n",
       "      <td>...</td>\n",
       "      <td>208</td>\n",
       "      <td>227</td>\n",
       "      <td>228</td>\n",
       "      <td>235</td>\n",
       "      <td>237</td>\n",
       "      <td>231</td>\n",
       "      <td>222</td>\n",
       "      <td>215</td>\n",
       "      <td>212</td>\n",
       "      <td>210</td>\n",
       "    </tr>\n",
       "    <tr>\n",
       "      <th>3</th>\n",
       "      <td>136</td>\n",
       "      <td>127</td>\n",
       "      <td>114</td>\n",
       "      <td>96</td>\n",
       "      <td>96</td>\n",
       "      <td>94</td>\n",
       "      <td>94</td>\n",
       "      <td>116</td>\n",
       "      <td>149</td>\n",
       "      <td>163</td>\n",
       "      <td>...</td>\n",
       "      <td>68</td>\n",
       "      <td>54</td>\n",
       "      <td>68</td>\n",
       "      <td>67</td>\n",
       "      <td>74</td>\n",
       "      <td>91</td>\n",
       "      <td>97</td>\n",
       "      <td>103</td>\n",
       "      <td>103</td>\n",
       "      <td>96</td>\n",
       "    </tr>\n",
       "    <tr>\n",
       "      <th>4</th>\n",
       "      <td>234</td>\n",
       "      <td>236</td>\n",
       "      <td>234</td>\n",
       "      <td>232</td>\n",
       "      <td>229</td>\n",
       "      <td>186</td>\n",
       "      <td>139</td>\n",
       "      <td>105</td>\n",
       "      <td>59</td>\n",
       "      <td>47</td>\n",
       "      <td>...</td>\n",
       "      <td>241</td>\n",
       "      <td>240</td>\n",
       "      <td>237</td>\n",
       "      <td>237</td>\n",
       "      <td>239</td>\n",
       "      <td>238</td>\n",
       "      <td>238</td>\n",
       "      <td>242</td>\n",
       "      <td>241</td>\n",
       "      <td>241</td>\n",
       "    </tr>\n",
       "  </tbody>\n",
       "</table>\n",
       "<p>5 rows × 10000 columns</p>\n",
       "</div>"
      ],
      "text/plain": [
       "   pixel_0  pixel_1  pixel_2  pixel_3  pixel_4  pixel_5  pixel_6  pixel_7  \\\n",
       "0      199      189      187      181      183      184      178      176   \n",
       "1       31       25       33       28       29       29       31       33   \n",
       "2       50       49       35       34       42       40       36       40   \n",
       "3      136      127      114       96       96       94       94      116   \n",
       "4      234      236      234      232      229      186      139      105   \n",
       "\n",
       "   pixel_8  pixel_9  ...  pixel_9990  pixel_9991  pixel_9992  pixel_9993  \\\n",
       "0      187      181  ...         109         108         109         111   \n",
       "1       35       35  ...          45          29          23          30   \n",
       "2       68       60  ...         208         227         228         235   \n",
       "3      149      163  ...          68          54          68          67   \n",
       "4       59       47  ...         241         240         237         237   \n",
       "\n",
       "   pixel_9994  pixel_9995  pixel_9996  pixel_9997  pixel_9998  pixel_9999  \n",
       "0         114         116         121         118         117         119  \n",
       "1          22          34          25          35          55          18  \n",
       "2         237         231         222         215         212         210  \n",
       "3          74          91          97         103         103          96  \n",
       "4         239         238         238         242         241         241  \n",
       "\n",
       "[5 rows x 10000 columns]"
      ]
     },
     "execution_count": 32,
     "metadata": {},
     "output_type": "execute_result"
    }
   ],
   "source": [
    "data.head()"
   ]
  },
  {
   "cell_type": "code",
   "execution_count": 33,
   "id": "a28c5059",
   "metadata": {},
   "outputs": [],
   "source": [
    "data = data/255\n",
    "\n",
    "# Normalize the data "
   ]
  },
  {
   "cell_type": "code",
   "execution_count": 34,
   "id": "eb19cac5",
   "metadata": {},
   "outputs": [],
   "source": [
    "data['gender'] = df_filter['gender']"
   ]
  },
  {
   "cell_type": "code",
   "execution_count": 35,
   "id": "20cd8a7c",
   "metadata": {},
   "outputs": [
    {
     "data": {
      "text/plain": [
       "np.int64(0)"
      ]
     },
     "execution_count": 35,
     "metadata": {},
     "output_type": "execute_result"
    }
   ],
   "source": [
    "data.isna().sum().sum()"
   ]
  },
  {
   "cell_type": "code",
   "execution_count": 36,
   "id": "09600077",
   "metadata": {},
   "outputs": [],
   "source": [
    "# if missing values present \n",
    "\n",
    "# data.dropna(inplace = True)"
   ]
  },
  {
   "cell_type": "code",
   "execution_count": 37,
   "id": "81cdac84",
   "metadata": {},
   "outputs": [],
   "source": [
    "import pickle \n",
    "pickle.dump(data , open('data_images_100_100.pkl' , mode = 'wb'))"
   ]
  }
 ],
 "metadata": {
  "kernelspec": {
   "display_name": "Python 3",
   "language": "python",
   "name": "python3"
  },
  "language_info": {
   "codemirror_mode": {
    "name": "ipython",
    "version": 3
   },
   "file_extension": ".py",
   "mimetype": "text/x-python",
   "name": "python",
   "nbconvert_exporter": "python",
   "pygments_lexer": "ipython3",
   "version": "3.10.18"
  }
 },
 "nbformat": 4,
 "nbformat_minor": 5
}
