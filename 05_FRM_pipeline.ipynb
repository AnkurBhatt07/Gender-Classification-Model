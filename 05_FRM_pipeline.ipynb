{
 "cells": [
  {
   "cell_type": "code",
   "execution_count": 2,
   "id": "f5a87cf5",
   "metadata": {},
   "outputs": [],
   "source": [
    "import numpy as np \n",
    "import pandas as pd \n",
    "import matplotlib.pyplot as plt \n",
    "import cv2\n",
    "import sklearn\n",
    "import pickle "
   ]
  },
  {
   "cell_type": "markdown",
   "id": "09f9e76a",
   "metadata": {},
   "source": [
    "Creating the pipeline for predictions on new data:\n",
    "\n",
    "Step1. Load the models : haar cascade classifier , mean_face_pixel_data , pca_model , svm_model\n",
    "\n",
    "\n",
    "Step2. load the image for prediction\n",
    "\n",
    "\n",
    "Step3. convert the image to gray cmap and single channel \n",
    "\n",
    "\n",
    "Step4. use the haar cascade classifier on the image to get the face pointers (x,y, w, h)\n",
    "\n",
    "\n",
    "Step5. Get the cropped face using the face pointers from the image \n",
    "\n",
    "\n",
    "Step6. Normalize the cropped faces : divide by 255\n",
    "\n",
    "\n",
    "Step7. reshape the cropped face/faces to (100,100)\n",
    "\n",
    "\n",
    "Step8. flatten the cropped face/faces and subtract mean face pixels from it/them \n",
    "\n",
    "\n",
    "Step9. Give the transformed flattened face/faces data to pca_model to get the eigen faces(the directions capturing the max variance in data)\n",
    "\n",
    "\n",
    "Step10. Use pca_model to get the inverse_transform of the eigen_face : needed for visualization\n",
    "\n",
    "\n",
    "Step11. Use the svm_model on the eigen face data to get the gender prediction . Also get the probability score using predict_proba and then get maxProbability for face/faces\n",
    "\n",
    "\n",
    "Step12. Define the different colors for male and female . Use those colors on the rectangle margins of the faces detected in the image\n",
    "\n",
    "\n",
    "Step13. Also put the text giving gender and probability for the specific gender prediction.\n"
   ]
  },
  {
   "cell_type": "code",
   "execution_count": 3,
   "id": "f12532dd",
   "metadata": {},
   "outputs": [],
   "source": [
    "haar = cv2.CascadeClassifier(\"./model/haarcascade_frontalface_default.xml\")\n",
    "pca_dict = pickle.load(open(\"./model/pca_dict.pickle\" , mode = 'rb'))\n",
    "pca_model = pca_dict['pca']\n",
    "mean_face = pca_dict['mean_face']\n",
    "\n",
    "svm_model = pickle.load(open(\"./model/model_svm.pickle\" , mode = 'rb'))\n"
   ]
  },
  {
   "cell_type": "code",
   "execution_count": null,
   "id": "a9565ac3",
   "metadata": {},
   "outputs": [],
   "source": []
  },
  {
   "cell_type": "code",
   "execution_count": null,
   "id": "07f454ab",
   "metadata": {},
   "outputs": [],
   "source": []
  },
  {
   "cell_type": "code",
   "execution_count": null,
   "id": "9fad5121",
   "metadata": {},
   "outputs": [],
   "source": []
  },
  {
   "cell_type": "code",
   "execution_count": null,
   "id": "971e5c39",
   "metadata": {},
   "outputs": [],
   "source": []
  },
  {
   "cell_type": "code",
   "execution_count": null,
   "id": "04978126",
   "metadata": {},
   "outputs": [],
   "source": []
  },
  {
   "cell_type": "code",
   "execution_count": null,
   "id": "79a38c51",
   "metadata": {},
   "outputs": [],
   "source": []
  },
  {
   "cell_type": "code",
   "execution_count": null,
   "id": "56de893d",
   "metadata": {},
   "outputs": [],
   "source": []
  },
  {
   "cell_type": "code",
   "execution_count": null,
   "id": "49a537f2",
   "metadata": {},
   "outputs": [],
   "source": []
  },
  {
   "cell_type": "code",
   "execution_count": null,
   "id": "88bd8e69",
   "metadata": {},
   "outputs": [],
   "source": []
  },
  {
   "cell_type": "code",
   "execution_count": null,
   "id": "d81d15c1",
   "metadata": {},
   "outputs": [],
   "source": []
  },
  {
   "cell_type": "code",
   "execution_count": null,
   "id": "e2b6089f",
   "metadata": {},
   "outputs": [],
   "source": []
  },
  {
   "cell_type": "code",
   "execution_count": null,
   "id": "397e7540",
   "metadata": {},
   "outputs": [],
   "source": []
  },
  {
   "cell_type": "code",
   "execution_count": null,
   "id": "42909319",
   "metadata": {},
   "outputs": [],
   "source": []
  }
 ],
 "metadata": {
  "kernelspec": {
   "display_name": "Python 3",
   "language": "python",
   "name": "python3"
  },
  "language_info": {
   "codemirror_mode": {
    "name": "ipython",
    "version": 3
   },
   "file_extension": ".py",
   "mimetype": "text/x-python",
   "name": "python",
   "nbconvert_exporter": "python",
   "pygments_lexer": "ipython3",
   "version": "3.10.18"
  }
 },
 "nbformat": 4,
 "nbformat_minor": 5
}
